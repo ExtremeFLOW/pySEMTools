{
 "cells": [
  {
   "cell_type": "markdown",
   "id": "31a94bbd-34ef-404b-a9be-4f3a216a8c3c",
   "metadata": {},
   "source": [
    "# Processing statistics files\n",
    "\n",
    "In this example we show how one can use pysemtools to average fields in space."
   ]
  },
  {
   "cell_type": "markdown",
   "id": "f9ad6337-6ba4-47c7-b687-0bf119a5b637",
   "metadata": {},
   "source": [
    "#### Import general modules"
   ]
  },
  {
   "cell_type": "code",
   "execution_count": 9,
   "id": "8b4ca2be-46e8-443b-ab44-6d1a60abfec4",
   "metadata": {},
   "outputs": [],
   "source": [
    "# Import required modules\n",
    "from mpi4py import MPI #equivalent to the use of MPI_init() in C\n",
    "import matplotlib.pyplot as plt\n",
    "import numpy as np\n",
    "\n",
    "# Get mpi info\n",
    "comm = MPI.COMM_WORLD\n",
    "\n",
    "# Hide the log for the notebook. Not recommended when running in clusters as it is better you see what happens\n",
    "import os\n",
    "os.environ[\"PYSEMTOOLS_HIDE_LOG\"] = 'false'\n"
   ]
  },
  {
   "cell_type": "markdown",
   "id": "c9fe3375",
   "metadata": {},
   "source": [
    "### Clone the data\n",
    "\n",
    "Get some data from a public repository"
   ]
  },
  {
   "cell_type": "code",
   "execution_count": 10,
   "id": "e6fc779c",
   "metadata": {},
   "outputs": [
    {
     "name": "stderr",
     "output_type": "stream",
     "text": [
      "fatal: destination path '../data/sem_data' already exists and is not an empty directory.\n"
     ]
    },
    {
     "data": {
      "text/plain": [
       "32768"
      ]
     },
     "execution_count": 10,
     "metadata": {},
     "output_type": "execute_result"
    }
   ],
   "source": [
    "# Clone the repository with the data\n",
    "os.system(\"git clone https://github.com/adperezm/sem_data.git ../data/sem_data\")"
   ]
  },
  {
   "cell_type": "markdown",
   "id": "68eb11f9",
   "metadata": {},
   "source": [
    "## Create a file name sequence\n",
    "\n",
    "This file name sequence will be used to read and average the data."
   ]
  },
  {
   "cell_type": "code",
   "execution_count": 11,
   "id": "92d5a9f3",
   "metadata": {},
   "outputs": [],
   "source": [
    "n_files = 1\n",
    "folder_path = \"../data/\"\n",
    "output_path = \"../data/\"\n",
    "file_sequence =[folder_path + f\"tc_channel0.f{str(i+1).zfill(5)}\" for i in range(n_files)]"
   ]
  },
  {
   "cell_type": "markdown",
   "id": "035408d0",
   "metadata": {},
   "source": [
    "### Average the file sequence in the homogeneous direction\n",
    "\n",
    "Simply call the function that performs the average"
   ]
  },
  {
   "cell_type": "code",
   "execution_count": 12,
   "id": "ba353c0d",
   "metadata": {},
   "outputs": [
    {
     "name": "stdout",
     "output_type": "stream",
     "text": [
      "2025-03-02 18:13:42,540 - Mesh - INFO - Initializing empty Mesh object.\n",
      "2025-03-02 18:13:42,542 - pynekread - INFO - Reading file: ../data/tc_channel0.f00001\n",
      "2025-03-02 18:13:42,546 - Mesh - INFO - Initializing Mesh object from x,y,z ndarrays.\n",
      "2025-03-02 18:13:42,547 - Mesh - INFO - Initializing common attributes.\n",
      "2025-03-02 18:13:42,548 - Mesh - INFO - Getting vertices\n",
      "2025-03-02 18:13:42,548 - Mesh - INFO - Getting edge centers\n",
      "2025-03-02 18:13:42,555 - Mesh - INFO - Getting facet centers\n",
      "2025-03-02 18:13:42,561 - Mesh - INFO - Mesh object initialized.\n",
      "2025-03-02 18:13:42,563 - Mesh - INFO - Mesh data is of type: torch.float32\n",
      "2025-03-02 18:13:42,563 - Mesh - INFO - Elapsed time: 0.01679431399998066s\n",
      "2025-03-02 18:13:42,564 - pynekread - INFO - File read\n",
      "2025-03-02 18:13:42,569 - pynekread - INFO - Elapsed time: 0.02723331499998949s\n",
      "2025-03-02 18:13:42,570 - Coef - INFO - Initializing Coef object\n",
      "2025-03-02 18:13:42,571 - Coef - INFO - Getting derivative matrices\n",
      "2025-03-02 18:13:42,575 - Coef - INFO - Calculating the components of the jacobian\n",
      "2025-03-02 18:13:42,602 - Coef - INFO - Calculating the jacobian determinant and inverse of the jacobian matrix\n",
      "2025-03-02 18:13:42,608 - Coef - INFO - Calculating the mass matrix\n",
      "2025-03-02 18:13:42,610 - Coef - INFO - Coef object initialized\n",
      "2025-03-02 18:13:42,611 - Coef - INFO - Coef data is of type: torch.float32\n",
      "2025-03-02 18:13:42,613 - Coef - INFO - Elapsed time: 0.04238472199998s\n",
      "===============================================\n",
      "2025-03-02 18:13:42,614 - Field - INFO - Initializing empty Field object\n",
      "2025-03-02 18:13:42,616 - pynekread - INFO - Reading file: ../data/tc_channel0.f00001\n",
      "2025-03-02 18:13:42,617 - pynekread - INFO - Reading field data\n",
      "2025-03-02 18:13:42,623 - pynekread - INFO - File read\n",
      "2025-03-02 18:13:42,625 - pynekread - INFO - Elapsed time: 0.009359203999991905s\n",
      "2025-03-02 18:13:42,626 - Field - INFO - Initializing empty Field object\n",
      "2025-03-02 18:13:42,632 - Coef - INFO - Calculating the derivative with respect to physical coordinates\n",
      "2025-03-02 18:13:42,641 - Coef - INFO - done\n",
      "2025-03-02 18:13:42,644 - Coef - INFO - Elapsed time: 0.009409981000004564s\n",
      "2025-03-02 18:13:42,648 - Coef - INFO - Calculating the derivative with respect to physical coordinates\n",
      "2025-03-02 18:13:42,667 - Coef - INFO - done\n",
      "2025-03-02 18:13:42,670 - Coef - INFO - Elapsed time: 0.0196672929999977s\n",
      "2025-03-02 18:13:42,671 - Coef - INFO - Calculating the derivative with respect to physical coordinates\n",
      "2025-03-02 18:13:42,695 - Coef - INFO - done\n",
      "2025-03-02 18:13:42,697 - Coef - INFO - Elapsed time: 0.021713761000000886s\n",
      "2025-03-02 18:13:42,703 - Coef - INFO - Calculating the derivative with respect to physical coordinates\n",
      "2025-03-02 18:13:42,709 - Coef - INFO - done\n",
      "2025-03-02 18:13:42,710 - Coef - INFO - Elapsed time: 0.00628370799998379s\n",
      "2025-03-02 18:13:42,712 - Coef - INFO - Calculating the derivative with respect to physical coordinates\n",
      "2025-03-02 18:13:42,717 - Coef - INFO - done\n",
      "2025-03-02 18:13:42,719 - Coef - INFO - Elapsed time: 0.0056999070000074425s\n",
      "2025-03-02 18:13:42,719 - Coef - INFO - Calculating the derivative with respect to physical coordinates\n",
      "2025-03-02 18:13:42,725 - Coef - INFO - done\n",
      "2025-03-02 18:13:42,726 - Coef - INFO - Elapsed time: 0.00581661999999028s\n",
      "2025-03-02 18:13:42,727 - Coef - INFO - Calculating the derivative with respect to physical coordinates\n",
      "2025-03-02 18:13:42,737 - Coef - INFO - done\n",
      "2025-03-02 18:13:42,738 - Coef - INFO - Elapsed time: 0.010507173000007697s\n",
      "2025-03-02 18:13:42,738 - Coef - INFO - Calculating the derivative with respect to physical coordinates\n",
      "2025-03-02 18:13:42,748 - Coef - INFO - done\n",
      "2025-03-02 18:13:42,749 - Coef - INFO - Elapsed time: 0.009865066000003253s\n",
      "2025-03-02 18:13:42,750 - Coef - INFO - Calculating the derivative with respect to physical coordinates\n",
      "2025-03-02 18:13:42,755 - Coef - INFO - done\n",
      "2025-03-02 18:13:42,756 - Coef - INFO - Elapsed time: 0.0051829500000053486s\n",
      "2025-03-02 18:13:42,762 - Mesh - INFO - Initializing Mesh object from x,y,z ndarrays.\n",
      "2025-03-02 18:13:42,763 - Mesh - INFO - Initializing common attributes.\n",
      "2025-03-02 18:13:42,763 - Mesh - INFO - Getting vertices\n",
      "2025-03-02 18:13:42,764 - Mesh - INFO - Getting edge centers\n",
      "2025-03-02 18:13:42,772 - Mesh - INFO - Getting facet centers\n",
      "2025-03-02 18:13:42,780 - Mesh - INFO - Mesh object initialized.\n",
      "2025-03-02 18:13:42,780 - Mesh - INFO - Mesh data is of type: float32\n",
      "2025-03-02 18:13:42,781 - Mesh - INFO - Elapsed time: 0.01881458000002567s\n",
      "2025-03-02 18:13:42,781 - Field - INFO - Initializing empty Field object\n",
      "2025-03-02 18:13:42,782 - pynekwrite - INFO - Writing file: ../data/augmented_field0.f00001\n",
      "2025-03-02 18:13:42,826 - pynekwrite - INFO - Elapsed time: 0.043346629000012626s\n"
     ]
    }
   ],
   "source": [
    "from pysemtools.postprocessing.statistics.fld_stats import generate_augmented_field\n",
    "from pysemtools.datatypes.msh import Mesh\n",
    "from pysemtools.datatypes.field import FieldRegistry\n",
    "from pysemtools.datatypes.coef import Coef\n",
    "from pysemtools.io.ppymech.neksuite import pynekread, pynekwrite\n",
    "\n",
    "# Read the data\n",
    "bckend = \"torch\"\n",
    "msh = Mesh(comm=comm, bckend=bckend)\n",
    "pynekread(comm=comm, filename = file_sequence[0], msh = msh, data_dtype=np.float32) # Always define the data type in numpy.\n",
    "\n",
    "# Generate the coefficients\n",
    "coef = Coef(msh=msh, comm=comm, bckend=bckend)\n",
    "\n",
    "for i, fname in enumerate(file_sequence):\n",
    "\n",
    "    if comm.Get_rank() == 0:\n",
    "        print(\"===============================================\")\n",
    "    \n",
    "    fld = FieldRegistry(comm=comm, bckend=bckend)\n",
    "    pynekread(comm=comm, filename = fname, fld = fld, data_dtype=np.float32) # Always define the data type in numpy.\n",
    "\n",
    "    # call the routine\n",
    "    augmented_fld = generate_augmented_field(comm=comm, msh=msh, fld=fld, coef=coef, dtype=msh.x.dtype)\n",
    "\n",
    "    # Write the data\n",
    "    pynekwrite(comm=comm, filename = output_path + f\"augmented_field0.f{str(i+1).zfill(5)}\", msh = msh.to(comm = comm, bckend=\"numpy\"), fld = augmented_fld.to(comm = comm, bckend=\"numpy\"), wdsz=4)"
   ]
  },
  {
   "cell_type": "markdown",
   "id": "a749a52f",
   "metadata": {},
   "source": [
    "That's it! check your file in, e.g., Visit or paraview and check how it turned out!"
   ]
  }
 ],
 "metadata": {
  "kernelspec": {
   "display_name": "python3.10",
   "language": "python",
   "name": "python3"
  },
  "language_info": {
   "codemirror_mode": {
    "name": "ipython",
    "version": 3
   },
   "file_extension": ".py",
   "mimetype": "text/x-python",
   "name": "python",
   "nbconvert_exporter": "python",
   "pygments_lexer": "ipython3",
   "version": "3.10.14"
  }
 },
 "nbformat": 4,
 "nbformat_minor": 5
}
